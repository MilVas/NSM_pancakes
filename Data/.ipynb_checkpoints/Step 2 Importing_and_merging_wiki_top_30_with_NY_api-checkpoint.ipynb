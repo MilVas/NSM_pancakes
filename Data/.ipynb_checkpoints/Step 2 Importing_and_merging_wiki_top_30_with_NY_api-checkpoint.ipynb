{
 "cells": [
  {
   "cell_type": "code",
   "execution_count": 1,
   "metadata": {},
   "outputs": [],
   "source": [
    "# to be ignored when copying in the main file\n",
    "import pandas as pd\n",
    "import requests\n",
    "import json\n",
    "import time\n",
    "\n",
    "# to be added\n",
    "\n",
    "import numpy as np\n",
    "import datetime\n",
    "from datetime import *\n",
    "from dateutil.relativedelta import *\n",
    "import calendar\n"
   ]
  },
  {
   "cell_type": "code",
   "execution_count": 2,
   "metadata": {},
   "outputs": [],
   "source": [
    "#reading excel\n",
    "wikidata = pd.read_excel('Wikipedia_ready_xl.xlsx')  \n",
    "#creating dataframe with wiki data\n",
    "Wiki =pd.DataFrame(wikidata)\n",
    "# change the titles to upper case\n",
    "Wiki['Page'] = Wiki['Page'].str.upper()\n"
   ]
  },
  {
   "cell_type": "code",
   "execution_count": 3,
   "metadata": {},
   "outputs": [],
   "source": [
    "#importing NYTimes\n",
    "NYTimes = pd.read_csv('results_fourcategories.csv')\n",
    "NYT =pd.DataFrame(NYTimes[['rank', 'title','author','date','month_on_list']])\n",
    "pd.set_option('display.max_rows', 100)\n",
    "#NYT2 = NYT[['rank', 'title','author','date','month_on_list']]"
   ]
  },
  {
   "cell_type": "code",
   "execution_count": 4,
   "metadata": {},
   "outputs": [
    {
     "data": {
      "text/html": [
       "<div>\n",
       "<style scoped>\n",
       "    .dataframe tbody tr th:only-of-type {\n",
       "        vertical-align: middle;\n",
       "    }\n",
       "\n",
       "    .dataframe tbody tr th {\n",
       "        vertical-align: top;\n",
       "    }\n",
       "\n",
       "    .dataframe thead th {\n",
       "        text-align: right;\n",
       "    }\n",
       "</style>\n",
       "<table border=\"1\" class=\"dataframe\">\n",
       "  <thead>\n",
       "    <tr style=\"text-align: right;\">\n",
       "      <th></th>\n",
       "      <th>rank</th>\n",
       "      <th>title</th>\n",
       "      <th>author</th>\n",
       "      <th>date</th>\n",
       "      <th>month_on_list</th>\n",
       "    </tr>\n",
       "  </thead>\n",
       "  <tbody>\n",
       "    <tr>\n",
       "      <th>0</th>\n",
       "      <td>1</td>\n",
       "      <td>ALONE</td>\n",
       "      <td>Lisa Gardner</td>\n",
       "      <td>2011-03-01</td>\n",
       "      <td>1.0</td>\n",
       "    </tr>\n",
       "    <tr>\n",
       "      <th>1</th>\n",
       "      <td>2</td>\n",
       "      <td>TICK TOCK</td>\n",
       "      <td>James Patterson and Michael Ledwidge</td>\n",
       "      <td>2011-03-01</td>\n",
       "      <td>2.0</td>\n",
       "    </tr>\n",
       "    <tr>\n",
       "      <th>2</th>\n",
       "      <td>3</td>\n",
       "      <td>THE GIRL WITH THE DRAGON TATTOO</td>\n",
       "      <td>Stieg Larsson</td>\n",
       "      <td>2011-03-01</td>\n",
       "      <td>8.0</td>\n",
       "    </tr>\n",
       "    <tr>\n",
       "      <th>3</th>\n",
       "      <td>4</td>\n",
       "      <td>WATER FOR ELEPHANTS</td>\n",
       "      <td>Sara Gruen</td>\n",
       "      <td>2011-03-01</td>\n",
       "      <td>5.0</td>\n",
       "    </tr>\n",
       "    <tr>\n",
       "      <th>4</th>\n",
       "      <td>5</td>\n",
       "      <td>THE GIRL WHO PLAYED WITH FIRE</td>\n",
       "      <td>Stieg Larsson</td>\n",
       "      <td>2011-03-01</td>\n",
       "      <td>7.0</td>\n",
       "    </tr>\n",
       "  </tbody>\n",
       "</table>\n",
       "</div>"
      ],
      "text/plain": [
       "   rank                            title  \\\n",
       "0     1                            ALONE   \n",
       "1     2                        TICK TOCK   \n",
       "2     3  THE GIRL WITH THE DRAGON TATTOO   \n",
       "3     4              WATER FOR ELEPHANTS   \n",
       "4     5    THE GIRL WHO PLAYED WITH FIRE   \n",
       "\n",
       "                                 author        date  month_on_list  \n",
       "0                          Lisa Gardner  2011-03-01            1.0  \n",
       "1  James Patterson and Michael Ledwidge  2011-03-01            2.0  \n",
       "2                         Stieg Larsson  2011-03-01            8.0  \n",
       "3                            Sara Gruen  2011-03-01            5.0  \n",
       "4                         Stieg Larsson  2011-03-01            7.0  "
      ]
     },
     "execution_count": 4,
     "metadata": {},
     "output_type": "execute_result"
    }
   ],
   "source": [
    "NYT.head()"
   ]
  },
  {
   "cell_type": "code",
   "execution_count": 5,
   "metadata": {},
   "outputs": [
    {
     "data": {
      "text/html": [
       "<div>\n",
       "<style scoped>\n",
       "    .dataframe tbody tr th:only-of-type {\n",
       "        vertical-align: middle;\n",
       "    }\n",
       "\n",
       "    .dataframe tbody tr th {\n",
       "        vertical-align: top;\n",
       "    }\n",
       "\n",
       "    .dataframe thead th {\n",
       "        text-align: right;\n",
       "    }\n",
       "</style>\n",
       "<table border=\"1\" class=\"dataframe\">\n",
       "  <thead>\n",
       "    <tr style=\"text-align: right;\">\n",
       "      <th></th>\n",
       "      <th>Rank</th>\n",
       "      <th>Page</th>\n",
       "      <th>Views in millions</th>\n",
       "      <th>rank</th>\n",
       "      <th>title</th>\n",
       "      <th>author</th>\n",
       "      <th>date</th>\n",
       "      <th>month_on_list</th>\n",
       "    </tr>\n",
       "  </thead>\n",
       "  <tbody>\n",
       "    <tr>\n",
       "      <th>0</th>\n",
       "      <td>2</td>\n",
       "      <td>FIFTY SHADES OF GREY</td>\n",
       "      <td>49</td>\n",
       "      <td>1</td>\n",
       "      <td>FIFTY SHADES OF GREY</td>\n",
       "      <td>E L James</td>\n",
       "      <td>2012-04-01</td>\n",
       "      <td>21.0</td>\n",
       "    </tr>\n",
       "    <tr>\n",
       "      <th>1</th>\n",
       "      <td>2</td>\n",
       "      <td>FIFTY SHADES OF GREY</td>\n",
       "      <td>49</td>\n",
       "      <td>1</td>\n",
       "      <td>FIFTY SHADES OF GREY</td>\n",
       "      <td>E L James</td>\n",
       "      <td>2012-05-01</td>\n",
       "      <td>21.0</td>\n",
       "    </tr>\n",
       "    <tr>\n",
       "      <th>2</th>\n",
       "      <td>2</td>\n",
       "      <td>FIFTY SHADES OF GREY</td>\n",
       "      <td>49</td>\n",
       "      <td>1</td>\n",
       "      <td>FIFTY SHADES OF GREY</td>\n",
       "      <td>E L James</td>\n",
       "      <td>2012-06-01</td>\n",
       "      <td>21.0</td>\n",
       "    </tr>\n",
       "    <tr>\n",
       "      <th>3</th>\n",
       "      <td>2</td>\n",
       "      <td>FIFTY SHADES OF GREY</td>\n",
       "      <td>49</td>\n",
       "      <td>1</td>\n",
       "      <td>FIFTY SHADES OF GREY</td>\n",
       "      <td>E L James</td>\n",
       "      <td>2012-07-01</td>\n",
       "      <td>4.0</td>\n",
       "    </tr>\n",
       "    <tr>\n",
       "      <th>4</th>\n",
       "      <td>2</td>\n",
       "      <td>FIFTY SHADES OF GREY</td>\n",
       "      <td>49</td>\n",
       "      <td>1</td>\n",
       "      <td>FIFTY SHADES OF GREY</td>\n",
       "      <td>E L James</td>\n",
       "      <td>2012-08-01</td>\n",
       "      <td>21.0</td>\n",
       "    </tr>\n",
       "  </tbody>\n",
       "</table>\n",
       "</div>"
      ],
      "text/plain": [
       "   Rank                  Page  Views in millions  rank                 title  \\\n",
       "0     2  FIFTY SHADES OF GREY                 49     1  FIFTY SHADES OF GREY   \n",
       "1     2  FIFTY SHADES OF GREY                 49     1  FIFTY SHADES OF GREY   \n",
       "2     2  FIFTY SHADES OF GREY                 49     1  FIFTY SHADES OF GREY   \n",
       "3     2  FIFTY SHADES OF GREY                 49     1  FIFTY SHADES OF GREY   \n",
       "4     2  FIFTY SHADES OF GREY                 49     1  FIFTY SHADES OF GREY   \n",
       "\n",
       "      author        date  month_on_list  \n",
       "0  E L James  2012-04-01           21.0  \n",
       "1  E L James  2012-05-01           21.0  \n",
       "2  E L James  2012-06-01           21.0  \n",
       "3  E L James  2012-07-01            4.0  \n",
       "4  E L James  2012-08-01           21.0  "
      ]
     },
     "execution_count": 5,
     "metadata": {},
     "output_type": "execute_result"
    }
   ],
   "source": [
    "#Merging the data based on Wiki\n",
    "\n",
    "Dataset =pd.merge(Wiki, NYT, left_on='Page', right_on='title')\n",
    "pd.set_option('display.max_rows', 100)\n",
    "pd.set_option('display.max_columns', 10)\n",
    "Dataset.head()"
   ]
  },
  {
   "cell_type": "code",
   "execution_count": 6,
   "metadata": {},
   "outputs": [
    {
     "data": {
      "text/plain": [
       "array(['FIFTY SHADES OF GREY', 'A GAME OF THRONES', \"THE HANDMAID'S TALE\",\n",
       "       'THE GIRL WITH THE DRAGON TATTOO', 'INFERNO', 'IT'], dtype=object)"
      ]
     },
     "execution_count": 6,
     "metadata": {},
     "output_type": "execute_result"
    }
   ],
   "source": [
    "# find unique values\n",
    "\n",
    "Dataset.title.unique()"
   ]
  },
  {
   "cell_type": "code",
   "execution_count": 7,
   "metadata": {},
   "outputs": [
    {
     "name": "stdout",
     "output_type": "stream",
     "text": [
      "Duplicated Rows are :\n",
      "                              title        date  month_on_list\n",
      "1              FIFTY SHADES OF GREY  2012-05-01           21.0\n",
      "2              FIFTY SHADES OF GREY  2012-06-01           21.0\n",
      "3              FIFTY SHADES OF GREY  2012-07-01            4.0\n",
      "4              FIFTY SHADES OF GREY  2012-08-01           21.0\n",
      "5              FIFTY SHADES OF GREY  2012-09-01            4.0\n",
      "6              FIFTY SHADES OF GREY  2012-10-01           21.0\n",
      "7              FIFTY SHADES OF GREY  2012-11-01           21.0\n",
      "8              FIFTY SHADES OF GREY  2012-12-01           21.0\n",
      "9              FIFTY SHADES OF GREY  2013-01-01            4.0\n",
      "10             FIFTY SHADES OF GREY  2013-02-01           21.0\n",
      "11             FIFTY SHADES OF GREY  2013-03-01           21.0\n",
      "12             FIFTY SHADES OF GREY  2013-04-01           21.0\n",
      "13             FIFTY SHADES OF GREY  2013-05-01           21.0\n",
      "14             FIFTY SHADES OF GREY  2013-06-01           21.0\n",
      "15             FIFTY SHADES OF GREY  2013-09-01           21.0\n",
      "16             FIFTY SHADES OF GREY  2013-10-01           21.0\n",
      "17             FIFTY SHADES OF GREY  2013-11-01           21.0\n",
      "18             FIFTY SHADES OF GREY  2013-12-01           21.0\n",
      "19             FIFTY SHADES OF GREY  2014-01-01            4.0\n",
      "20             FIFTY SHADES OF GREY  2014-09-01           21.0\n",
      "21             FIFTY SHADES OF GREY  2014-12-01           21.0\n",
      "22             FIFTY SHADES OF GREY  2015-02-01           21.0\n",
      "23             FIFTY SHADES OF GREY  2015-03-01           21.0\n",
      "24             FIFTY SHADES OF GREY  2015-04-01           21.0\n",
      "26                A GAME OF THRONES  2011-06-01           22.0\n",
      "27                A GAME OF THRONES  2011-07-01           22.0\n",
      "28                A GAME OF THRONES  2011-08-01           22.0\n",
      "29                A GAME OF THRONES  2011-09-01           22.0\n",
      "30                A GAME OF THRONES  2011-10-01           22.0\n",
      "31                A GAME OF THRONES  2012-01-01            1.0\n",
      "32                A GAME OF THRONES  2012-04-01           22.0\n",
      "33                A GAME OF THRONES  2012-05-01           22.0\n",
      "34                A GAME OF THRONES  2012-06-01           22.0\n",
      "35                A GAME OF THRONES  2012-07-01           22.0\n",
      "36                A GAME OF THRONES  2012-08-01           22.0\n",
      "37                A GAME OF THRONES  2013-06-01           22.0\n",
      "38                A GAME OF THRONES  2013-07-01           22.0\n",
      "39                A GAME OF THRONES  2013-12-01           22.0\n",
      "40                A GAME OF THRONES  2014-05-01           22.0\n",
      "41                A GAME OF THRONES  2014-06-01           22.0\n",
      "42                A GAME OF THRONES  2014-07-01           22.0\n",
      "43                A GAME OF THRONES  2015-07-01           22.0\n",
      "44                A GAME OF THRONES  2017-08-01           22.0\n",
      "45                A GAME OF THRONES  2017-09-01           22.0\n",
      "46                A GAME OF THRONES  2019-05-01           22.0\n",
      "47                A GAME OF THRONES  2019-06-01           22.0\n",
      "49              THE HANDMAID'S TALE  2017-05-01            8.0\n",
      "50              THE HANDMAID'S TALE  2017-06-01            8.0\n",
      "51              THE HANDMAID'S TALE  2017-07-01            8.0\n",
      "52              THE HANDMAID'S TALE  2017-08-01            8.0\n",
      "53              THE HANDMAID'S TALE  2017-09-01            8.0\n",
      "54              THE HANDMAID'S TALE  2018-06-01            8.0\n",
      "55              THE HANDMAID'S TALE  2019-10-01            8.0\n",
      "57  THE GIRL WITH THE DRAGON TATTOO  2011-04-01            8.0\n",
      "58  THE GIRL WITH THE DRAGON TATTOO  2011-05-01            8.0\n",
      "59  THE GIRL WITH THE DRAGON TATTOO  2011-07-01            1.0\n",
      "60  THE GIRL WITH THE DRAGON TATTOO  2011-12-01            8.0\n",
      "61  THE GIRL WITH THE DRAGON TATTOO  2012-01-01            8.0\n",
      "62  THE GIRL WITH THE DRAGON TATTOO  2012-02-01            8.0\n",
      "63  THE GIRL WITH THE DRAGON TATTOO  2012-03-01            8.0\n",
      "64  THE GIRL WITH THE DRAGON TATTOO  2012-04-01            8.0\n",
      "65  THE GIRL WITH THE DRAGON TATTOO  2008-10-01            5.0\n",
      "66  THE GIRL WITH THE DRAGON TATTOO  2008-11-01            5.0\n",
      "67  THE GIRL WITH THE DRAGON TATTOO  2008-12-01            5.0\n",
      "68  THE GIRL WITH THE DRAGON TATTOO  2009-01-01            5.0\n",
      "69  THE GIRL WITH THE DRAGON TATTOO  2009-02-01            5.0\n",
      "71                          INFERNO  2013-07-01            5.0\n",
      "72                          INFERNO  2013-08-01            5.0\n",
      "73                          INFERNO  2013-09-01            5.0\n",
      "74                          INFERNO  2013-10-01            5.0\n",
      "75                          INFERNO  2014-01-01            8.0\n",
      "76                          INFERNO  2014-06-01            1.0\n",
      "77                          INFERNO  2016-11-01            1.0\n",
      "78                          INFERNO  2013-06-01            8.0\n",
      "79                          INFERNO  2013-07-01            8.0\n",
      "80                          INFERNO  2013-08-01            8.0\n",
      "81                          INFERNO  2013-09-01            8.0\n",
      "82                          INFERNO  2013-10-01            8.0\n",
      "83                          INFERNO  2013-12-01            8.0\n",
      "84                          INFERNO  2014-01-01            8.0\n",
      "86                               IT  2017-11-01            2.0\n",
      "87                               IT  2019-10-01            1.0\n"
     ]
    }
   ],
   "source": [
    "#find duplicates\n",
    "\n",
    "Duplicates = Dataset[Dataset.duplicated(['title'])]\n",
    "print(\"Duplicated Rows are :\", Duplicates[['title','date','month_on_list']], sep='\\n')"
   ]
  },
  {
   "cell_type": "code",
   "execution_count": 8,
   "metadata": {},
   "outputs": [],
   "source": [
    "#DATA CLEANING"
   ]
  },
  {
   "cell_type": "code",
   "execution_count": 9,
   "metadata": {},
   "outputs": [
    {
     "data": {
      "text/plain": [
       "Index(['Rank', 'Page', 'Views in millions', 'rank', 'title', 'author', 'date',\n",
       "       'month_on_list'],\n",
       "      dtype='object')"
      ]
     },
     "execution_count": 9,
     "metadata": {},
     "output_type": "execute_result"
    }
   ],
   "source": [
    "Dataset.columns"
   ]
  },
  {
   "cell_type": "code",
   "execution_count": 10,
   "metadata": {},
   "outputs": [
    {
     "data": {
      "text/plain": [
       "Index(['Wiki_Rank', 'Wiki_Title', 'Page_Visits', 'NYT_Rank', 'NYT_Title',\n",
       "       'Author', 'Start_Date', 'Duration'],\n",
       "      dtype='object')"
      ]
     },
     "execution_count": 10,
     "metadata": {},
     "output_type": "execute_result"
    }
   ],
   "source": [
    "#1. Column renaming\n",
    "Dataset = Dataset.rename(columns = {'Rank':'Wiki_Rank', 'Views in millions': 'Page_Visits','Page':'Wiki_Title', 'rank':'NYT_Rank', \n",
    "                                    'title': 'NYT_Title','author':'Author','date':'Start_Date','month_on_list':'Duration'})\n",
    "Dataset.columns"
   ]
  },
  {
   "cell_type": "code",
   "execution_count": 11,
   "metadata": {},
   "outputs": [
    {
     "data": {
      "text/plain": [
       "Index(['Wiki_Rank', 'Wiki_Title', 'Page_Visits', 'NYT_Rank', 'NYT_Title',\n",
       "       'Author', 'Start_Date', 'Duration', 'End_Date'],\n",
       "      dtype='object')"
      ]
     },
     "execution_count": 11,
     "metadata": {},
     "output_type": "execute_result"
    }
   ],
   "source": [
    "#2. Assigning a new column to store the End date\n",
    "Dataset['End_Date'] = Dataset.apply(lambda _: '', axis=1)\n",
    "\n",
    "Dataset.columns"
   ]
  },
  {
   "cell_type": "code",
   "execution_count": 12,
   "metadata": {},
   "outputs": [
    {
     "data": {
      "text/plain": [
       "Index(['Wiki_Rank', 'Wiki_Title', 'Page_Visits', 'NYT_Rank', 'NYT_Title',\n",
       "       'Author', 'Start_Date', 'Duration', 'End_Date'],\n",
       "      dtype='object')"
      ]
     },
     "execution_count": 12,
     "metadata": {},
     "output_type": "execute_result"
    }
   ],
   "source": [
    "#3 Calculating End Date\n",
    "Dataset['Start_Date'] = pd.to_datetime(Dataset['Start_Date'])\n",
    "Dataset['End_Date'] = pd.to_datetime(Dataset['End_Date'])\n",
    "\n",
    "f = lambda x: x ['Start_Date'] + relativedelta(months = int(x['Duration']))\n",
    "Dataset['End_Date'] = Dataset.apply(f, axis=1)\n",
    "\n",
    "Dataset.columns"
   ]
  },
  {
   "cell_type": "code",
   "execution_count": 13,
   "metadata": {},
   "outputs": [],
   "source": [
    "#4 Finding the earliest start date and the latest end date\n",
    "later_end_date = (pd.DataFrame(Dataset.groupby('Wiki_Title')['End_Date'].max())).rename(columns = {'End_Date':'E_Date'})\n",
    "earlier_start_date = (pd.DataFrame(Dataset.groupby('Wiki_Title')['Start_Date'].min())).rename(columns = {'Start_Date':'S_Date'})"
   ]
  },
  {
   "cell_type": "code",
   "execution_count": 14,
   "metadata": {},
   "outputs": [
    {
     "data": {
      "text/html": [
       "<div>\n",
       "<style scoped>\n",
       "    .dataframe tbody tr th:only-of-type {\n",
       "        vertical-align: middle;\n",
       "    }\n",
       "\n",
       "    .dataframe tbody tr th {\n",
       "        vertical-align: top;\n",
       "    }\n",
       "\n",
       "    .dataframe thead th {\n",
       "        text-align: right;\n",
       "    }\n",
       "</style>\n",
       "<table border=\"1\" class=\"dataframe\">\n",
       "  <thead>\n",
       "    <tr style=\"text-align: right;\">\n",
       "      <th></th>\n",
       "      <th>Wiki_Rank</th>\n",
       "      <th>Wiki_Title</th>\n",
       "      <th>Page_Visits</th>\n",
       "      <th>NYT_Rank</th>\n",
       "      <th>NYT_Title</th>\n",
       "      <th>...</th>\n",
       "      <th>Start_Date</th>\n",
       "      <th>Duration</th>\n",
       "      <th>End_Date</th>\n",
       "      <th>E_Date</th>\n",
       "      <th>S_Date</th>\n",
       "    </tr>\n",
       "  </thead>\n",
       "  <tbody>\n",
       "    <tr>\n",
       "      <th>0</th>\n",
       "      <td>2</td>\n",
       "      <td>FIFTY SHADES OF GREY</td>\n",
       "      <td>49</td>\n",
       "      <td>1</td>\n",
       "      <td>FIFTY SHADES OF GREY</td>\n",
       "      <td>...</td>\n",
       "      <td>2012-04-01</td>\n",
       "      <td>21.0</td>\n",
       "      <td>2014-01-01</td>\n",
       "      <td>2017-01-01</td>\n",
       "      <td>2012-04-01</td>\n",
       "    </tr>\n",
       "    <tr>\n",
       "      <th>1</th>\n",
       "      <td>2</td>\n",
       "      <td>FIFTY SHADES OF GREY</td>\n",
       "      <td>49</td>\n",
       "      <td>1</td>\n",
       "      <td>FIFTY SHADES OF GREY</td>\n",
       "      <td>...</td>\n",
       "      <td>2012-05-01</td>\n",
       "      <td>21.0</td>\n",
       "      <td>2014-02-01</td>\n",
       "      <td>2017-01-01</td>\n",
       "      <td>2012-04-01</td>\n",
       "    </tr>\n",
       "    <tr>\n",
       "      <th>2</th>\n",
       "      <td>2</td>\n",
       "      <td>FIFTY SHADES OF GREY</td>\n",
       "      <td>49</td>\n",
       "      <td>1</td>\n",
       "      <td>FIFTY SHADES OF GREY</td>\n",
       "      <td>...</td>\n",
       "      <td>2012-06-01</td>\n",
       "      <td>21.0</td>\n",
       "      <td>2014-03-01</td>\n",
       "      <td>2017-01-01</td>\n",
       "      <td>2012-04-01</td>\n",
       "    </tr>\n",
       "    <tr>\n",
       "      <th>3</th>\n",
       "      <td>2</td>\n",
       "      <td>FIFTY SHADES OF GREY</td>\n",
       "      <td>49</td>\n",
       "      <td>1</td>\n",
       "      <td>FIFTY SHADES OF GREY</td>\n",
       "      <td>...</td>\n",
       "      <td>2012-07-01</td>\n",
       "      <td>4.0</td>\n",
       "      <td>2012-11-01</td>\n",
       "      <td>2017-01-01</td>\n",
       "      <td>2012-04-01</td>\n",
       "    </tr>\n",
       "    <tr>\n",
       "      <th>4</th>\n",
       "      <td>2</td>\n",
       "      <td>FIFTY SHADES OF GREY</td>\n",
       "      <td>49</td>\n",
       "      <td>1</td>\n",
       "      <td>FIFTY SHADES OF GREY</td>\n",
       "      <td>...</td>\n",
       "      <td>2012-08-01</td>\n",
       "      <td>21.0</td>\n",
       "      <td>2014-05-01</td>\n",
       "      <td>2017-01-01</td>\n",
       "      <td>2012-04-01</td>\n",
       "    </tr>\n",
       "  </tbody>\n",
       "</table>\n",
       "<p>5 rows × 11 columns</p>\n",
       "</div>"
      ],
      "text/plain": [
       "   Wiki_Rank            Wiki_Title  Page_Visits  NYT_Rank  \\\n",
       "0          2  FIFTY SHADES OF GREY           49         1   \n",
       "1          2  FIFTY SHADES OF GREY           49         1   \n",
       "2          2  FIFTY SHADES OF GREY           49         1   \n",
       "3          2  FIFTY SHADES OF GREY           49         1   \n",
       "4          2  FIFTY SHADES OF GREY           49         1   \n",
       "\n",
       "              NYT_Title  ... Start_Date Duration   End_Date     E_Date  \\\n",
       "0  FIFTY SHADES OF GREY  ... 2012-04-01     21.0 2014-01-01 2017-01-01   \n",
       "1  FIFTY SHADES OF GREY  ... 2012-05-01     21.0 2014-02-01 2017-01-01   \n",
       "2  FIFTY SHADES OF GREY  ... 2012-06-01     21.0 2014-03-01 2017-01-01   \n",
       "3  FIFTY SHADES OF GREY  ... 2012-07-01      4.0 2012-11-01 2017-01-01   \n",
       "4  FIFTY SHADES OF GREY  ... 2012-08-01     21.0 2014-05-01 2017-01-01   \n",
       "\n",
       "      S_Date  \n",
       "0 2012-04-01  \n",
       "1 2012-04-01  \n",
       "2 2012-04-01  \n",
       "3 2012-04-01  \n",
       "4 2012-04-01  \n",
       "\n",
       "[5 rows x 11 columns]"
      ]
     },
     "execution_count": 14,
     "metadata": {},
     "output_type": "execute_result"
    }
   ],
   "source": [
    "#5a Incorporating the new info in the main Dataset\n",
    "Dataset1 = later_end_date.merge(earlier_start_date, on = 'Wiki_Title')\n",
    "\n",
    "Dataset2 = Dataset.merge(Dataset1, on = 'Wiki_Title')\n",
    "Dataset2.head() \n",
    "\n",
    "#Final_Dataset1 = Final_Dataset1[['Wiki_Rank','NYT_Rank','Wiki_Title','S_Date', 'E_Date', 'Duration_y','Page_Visits']]\n",
    "\n",
    "#Final_Dataset2.drop_duplicates()\n",
    "\n",
    "#Final_Dataset1 = Final_Dataset1.groupby(['Wiki_Title'])\n",
    "\n"
   ]
  },
  {
   "cell_type": "code",
   "execution_count": 15,
   "metadata": {},
   "outputs": [],
   "source": [
    "Dataset2 = Dataset2[['Wiki_Title','Page_Visits','Wiki_Rank','NYT_Title','S_Date','E_Date','Duration']]"
   ]
  },
  {
   "cell_type": "code",
   "execution_count": 16,
   "metadata": {},
   "outputs": [
    {
     "data": {
      "text/html": [
       "<div>\n",
       "<style scoped>\n",
       "    .dataframe tbody tr th:only-of-type {\n",
       "        vertical-align: middle;\n",
       "    }\n",
       "\n",
       "    .dataframe tbody tr th {\n",
       "        vertical-align: top;\n",
       "    }\n",
       "\n",
       "    .dataframe thead th {\n",
       "        text-align: right;\n",
       "    }\n",
       "</style>\n",
       "<table border=\"1\" class=\"dataframe\">\n",
       "  <thead>\n",
       "    <tr style=\"text-align: right;\">\n",
       "      <th></th>\n",
       "      <th>Wiki_Title</th>\n",
       "      <th>Page_Visits</th>\n",
       "      <th>Wiki_Rank</th>\n",
       "      <th>NYT_Title</th>\n",
       "      <th>S_Date</th>\n",
       "      <th>E_Date</th>\n",
       "      <th>Duration</th>\n",
       "    </tr>\n",
       "  </thead>\n",
       "  <tbody>\n",
       "    <tr>\n",
       "      <th>0</th>\n",
       "      <td>FIFTY SHADES OF GREY</td>\n",
       "      <td>49</td>\n",
       "      <td>2</td>\n",
       "      <td>FIFTY SHADES OF GREY</td>\n",
       "      <td>2012-04-01</td>\n",
       "      <td>2017-01-01</td>\n",
       "      <td>21.0</td>\n",
       "    </tr>\n",
       "    <tr>\n",
       "      <th>1</th>\n",
       "      <td>FIFTY SHADES OF GREY</td>\n",
       "      <td>49</td>\n",
       "      <td>2</td>\n",
       "      <td>FIFTY SHADES OF GREY</td>\n",
       "      <td>2012-04-01</td>\n",
       "      <td>2017-01-01</td>\n",
       "      <td>21.0</td>\n",
       "    </tr>\n",
       "    <tr>\n",
       "      <th>2</th>\n",
       "      <td>FIFTY SHADES OF GREY</td>\n",
       "      <td>49</td>\n",
       "      <td>2</td>\n",
       "      <td>FIFTY SHADES OF GREY</td>\n",
       "      <td>2012-04-01</td>\n",
       "      <td>2017-01-01</td>\n",
       "      <td>21.0</td>\n",
       "    </tr>\n",
       "    <tr>\n",
       "      <th>3</th>\n",
       "      <td>FIFTY SHADES OF GREY</td>\n",
       "      <td>49</td>\n",
       "      <td>2</td>\n",
       "      <td>FIFTY SHADES OF GREY</td>\n",
       "      <td>2012-04-01</td>\n",
       "      <td>2017-01-01</td>\n",
       "      <td>4.0</td>\n",
       "    </tr>\n",
       "    <tr>\n",
       "      <th>4</th>\n",
       "      <td>FIFTY SHADES OF GREY</td>\n",
       "      <td>49</td>\n",
       "      <td>2</td>\n",
       "      <td>FIFTY SHADES OF GREY</td>\n",
       "      <td>2012-04-01</td>\n",
       "      <td>2017-01-01</td>\n",
       "      <td>21.0</td>\n",
       "    </tr>\n",
       "  </tbody>\n",
       "</table>\n",
       "</div>"
      ],
      "text/plain": [
       "             Wiki_Title  Page_Visits  Wiki_Rank             NYT_Title  \\\n",
       "0  FIFTY SHADES OF GREY           49          2  FIFTY SHADES OF GREY   \n",
       "1  FIFTY SHADES OF GREY           49          2  FIFTY SHADES OF GREY   \n",
       "2  FIFTY SHADES OF GREY           49          2  FIFTY SHADES OF GREY   \n",
       "3  FIFTY SHADES OF GREY           49          2  FIFTY SHADES OF GREY   \n",
       "4  FIFTY SHADES OF GREY           49          2  FIFTY SHADES OF GREY   \n",
       "\n",
       "      S_Date     E_Date  Duration  \n",
       "0 2012-04-01 2017-01-01      21.0  \n",
       "1 2012-04-01 2017-01-01      21.0  \n",
       "2 2012-04-01 2017-01-01      21.0  \n",
       "3 2012-04-01 2017-01-01       4.0  \n",
       "4 2012-04-01 2017-01-01      21.0  "
      ]
     },
     "execution_count": 16,
     "metadata": {},
     "output_type": "execute_result"
    }
   ],
   "source": [
    "Dataset2.head()"
   ]
  },
  {
   "cell_type": "code",
   "execution_count": 17,
   "metadata": {},
   "outputs": [
    {
     "data": {
      "text/plain": [
       "Wiki_Title\n",
       "A GAME OF THRONES                  21.086957\n",
       "FIFTY SHADES OF GREY               18.280000\n",
       "INFERNO                             6.066667\n",
       "IT                                  1.666667\n",
       "THE GIRL WITH THE DRAGON TATTOO     6.428571\n",
       "THE HANDMAID'S TALE                 8.000000\n",
       "Name: Duration, dtype: float64"
      ]
     },
     "execution_count": 17,
     "metadata": {},
     "output_type": "execute_result"
    }
   ],
   "source": [
    "#Dealing with duplicates\n",
    "#Approach 1:\n",
    "\n",
    "#Group by average duration\n",
    "\n",
    "MeanDuration=Dataset.groupby('Wiki_Title')['Duration'].mean()\n",
    "\n",
    "#Dataset.head()\n",
    "#Dataset = (Dataset.groupby('Wiki_Title').agg({'Duration': np.average}))\n",
    "#Dataset = (Dataset.groupby('Wiki_Title').agg('Duration'= np.average))\n",
    "\n",
    "#Dataset['Months'] = Dataset.apply(lambda _: '', axis=1)\n",
    "MeanDuration\n",
    "\n",
    "\n"
   ]
  },
  {
   "cell_type": "code",
   "execution_count": 18,
   "metadata": {
    "scrolled": true
   },
   "outputs": [
    {
     "data": {
      "text/plain": [
       "Index(['Wiki_Title', 'Page_Visits', 'Wiki_Rank', 'NYT_Title', 'S_Date',\n",
       "       'E_Date', 'Duration_x', 'Duration_y'],\n",
       "      dtype='object')"
      ]
     },
     "execution_count": 18,
     "metadata": {},
     "output_type": "execute_result"
    }
   ],
   "source": [
    "Dataset3 = Dataset2.merge(MeanDuration, on = 'Wiki_Title')\n",
    "Dataset3.columns"
   ]
  },
  {
   "cell_type": "code",
   "execution_count": 19,
   "metadata": {},
   "outputs": [
    {
     "data": {
      "text/plain": [
       "Index(['Wiki_Title', 'Page_Visits', 'Wiki_Rank', 'NYT_Title', 'S_Date',\n",
       "       'E_Date', 'Duration_y'],\n",
       "      dtype='object')"
      ]
     },
     "execution_count": 19,
     "metadata": {},
     "output_type": "execute_result"
    }
   ],
   "source": [
    "#removing duplicated column\n",
    "Dataset3 = Dataset3.drop(['Duration_x'], axis = 1)\n",
    "\n",
    "Dataset3.columns"
   ]
  },
  {
   "cell_type": "code",
   "execution_count": 28,
   "metadata": {},
   "outputs": [
    {
     "data": {
      "text/plain": [
       "pandas.core.groupby.generic.DataFrameGroupBy"
      ]
     },
     "execution_count": 28,
     "metadata": {},
     "output_type": "execute_result"
    }
   ],
   "source": [
    "Final_Dataset = (Dataset3.groupby('Wiki_Title', as_index = False)[])\n",
    "type(Final_Dataset )"
   ]
  },
  {
   "cell_type": "code",
   "execution_count": 21,
   "metadata": {},
   "outputs": [
    {
     "data": {
      "text/html": [
       "<div>\n",
       "<style scoped>\n",
       "    .dataframe tbody tr th:only-of-type {\n",
       "        vertical-align: middle;\n",
       "    }\n",
       "\n",
       "    .dataframe tbody tr th {\n",
       "        vertical-align: top;\n",
       "    }\n",
       "\n",
       "    .dataframe thead th {\n",
       "        text-align: right;\n",
       "    }\n",
       "</style>\n",
       "<table border=\"1\" class=\"dataframe\">\n",
       "  <thead>\n",
       "    <tr style=\"text-align: right;\">\n",
       "      <th></th>\n",
       "      <th>Wiki_Rank</th>\n",
       "      <th>Title</th>\n",
       "      <th>Page_Visits</th>\n",
       "      <th>NYT_Rank</th>\n",
       "      <th>NYT_Title</th>\n",
       "      <th>...</th>\n",
       "      <th>Start_Date</th>\n",
       "      <th>Duration</th>\n",
       "      <th>End_Date</th>\n",
       "      <th>To</th>\n",
       "      <th>From</th>\n",
       "    </tr>\n",
       "  </thead>\n",
       "  <tbody>\n",
       "    <tr>\n",
       "      <th>0</th>\n",
       "      <td>2</td>\n",
       "      <td>FIFTY SHADES OF GREY</td>\n",
       "      <td>49</td>\n",
       "      <td>1</td>\n",
       "      <td>FIFTY SHADES OF GREY</td>\n",
       "      <td>...</td>\n",
       "      <td>2012-04-01</td>\n",
       "      <td>21.0</td>\n",
       "      <td>2014-01-01</td>\n",
       "      <td>2017-01-01</td>\n",
       "      <td>2012-04-01</td>\n",
       "    </tr>\n",
       "    <tr>\n",
       "      <th>1</th>\n",
       "      <td>9</td>\n",
       "      <td>A GAME OF THRONES</td>\n",
       "      <td>27</td>\n",
       "      <td>9</td>\n",
       "      <td>A GAME OF THRONES</td>\n",
       "      <td>...</td>\n",
       "      <td>2011-05-01</td>\n",
       "      <td>22.0</td>\n",
       "      <td>2013-03-01</td>\n",
       "      <td>2021-04-01</td>\n",
       "      <td>2011-05-01</td>\n",
       "    </tr>\n",
       "    <tr>\n",
       "      <th>2</th>\n",
       "      <td>14</td>\n",
       "      <td>THE HANDMAID'S TALE</td>\n",
       "      <td>22</td>\n",
       "      <td>13</td>\n",
       "      <td>THE HANDMAID'S TALE</td>\n",
       "      <td>...</td>\n",
       "      <td>2017-03-01</td>\n",
       "      <td>8.0</td>\n",
       "      <td>2017-11-01</td>\n",
       "      <td>2020-06-01</td>\n",
       "      <td>2017-03-01</td>\n",
       "    </tr>\n",
       "    <tr>\n",
       "      <th>3</th>\n",
       "      <td>17</td>\n",
       "      <td>THE GIRL WITH THE DRAGON TATTOO</td>\n",
       "      <td>20</td>\n",
       "      <td>3</td>\n",
       "      <td>THE GIRL WITH THE DRAGON TATTOO</td>\n",
       "      <td>...</td>\n",
       "      <td>2011-03-01</td>\n",
       "      <td>8.0</td>\n",
       "      <td>2011-11-01</td>\n",
       "      <td>2012-12-01</td>\n",
       "      <td>2008-10-01</td>\n",
       "    </tr>\n",
       "    <tr>\n",
       "      <th>4</th>\n",
       "      <td>21</td>\n",
       "      <td>INFERNO</td>\n",
       "      <td>19</td>\n",
       "      <td>1</td>\n",
       "      <td>INFERNO</td>\n",
       "      <td>...</td>\n",
       "      <td>2013-06-01</td>\n",
       "      <td>5.0</td>\n",
       "      <td>2013-11-01</td>\n",
       "      <td>2016-12-01</td>\n",
       "      <td>2013-06-01</td>\n",
       "    </tr>\n",
       "    <tr>\n",
       "      <th>5</th>\n",
       "      <td>22</td>\n",
       "      <td>IT</td>\n",
       "      <td>18</td>\n",
       "      <td>2</td>\n",
       "      <td>IT</td>\n",
       "      <td>...</td>\n",
       "      <td>2017-10-01</td>\n",
       "      <td>2.0</td>\n",
       "      <td>2017-12-01</td>\n",
       "      <td>2019-11-01</td>\n",
       "      <td>2017-10-01</td>\n",
       "    </tr>\n",
       "  </tbody>\n",
       "</table>\n",
       "<p>6 rows × 11 columns</p>\n",
       "</div>"
      ],
      "text/plain": [
       "   Wiki_Rank                            Title  Page_Visits  NYT_Rank  \\\n",
       "0          2             FIFTY SHADES OF GREY           49         1   \n",
       "1          9                A GAME OF THRONES           27         9   \n",
       "2         14              THE HANDMAID'S TALE           22        13   \n",
       "3         17  THE GIRL WITH THE DRAGON TATTOO           20         3   \n",
       "4         21                          INFERNO           19         1   \n",
       "5         22                               IT           18         2   \n",
       "\n",
       "                         NYT_Title  ... Start_Date Duration   End_Date  \\\n",
       "0             FIFTY SHADES OF GREY  ... 2012-04-01     21.0 2014-01-01   \n",
       "1                A GAME OF THRONES  ... 2011-05-01     22.0 2013-03-01   \n",
       "2              THE HANDMAID'S TALE  ... 2017-03-01      8.0 2017-11-01   \n",
       "3  THE GIRL WITH THE DRAGON TATTOO  ... 2011-03-01      8.0 2011-11-01   \n",
       "4                          INFERNO  ... 2013-06-01      5.0 2013-11-01   \n",
       "5                               IT  ... 2017-10-01      2.0 2017-12-01   \n",
       "\n",
       "          To       From  \n",
       "0 2017-01-01 2012-04-01  \n",
       "1 2021-04-01 2011-05-01  \n",
       "2 2020-06-01 2017-03-01  \n",
       "3 2012-12-01 2008-10-01  \n",
       "4 2016-12-01 2013-06-01  \n",
       "5 2019-11-01 2017-10-01  \n",
       "\n",
       "[6 rows x 11 columns]"
      ]
     },
     "execution_count": 21,
     "metadata": {},
     "output_type": "execute_result"
    }
   ],
   "source": [
    "#Approach 2: \n",
    "#Find the End_Date, and recalculate duration based on the difference between the earliest start date and the latest end date\n",
    "\n",
    "# Calculating the end date in order to find out the maximum duration amongst the duplicates\n",
    "\n",
    "Dataset['Start_Date'] = pd.to_datetime(Dataset['Start_Date'])\n",
    "Dataset['End_Date'] = pd.to_datetime(Dataset['End_Date'])\n",
    "\n",
    "f = lambda x: x ['Start_Date'] + relativedelta(months = int(x['Duration']))\n",
    "Dataset['End_Date'] = Dataset.apply(f, axis=1)\n",
    "\n",
    "later_end_date = (pd.DataFrame(Dataset.groupby('Wiki_Title')['End_Date'].max())).rename(columns = {'End_Date':'E_Date'})\n",
    "earlier_start_date = (pd.DataFrame(Dataset.groupby('Wiki_Title')['Start_Date'].min())).rename(columns = {'Start_Date':'S_Date'})\n",
    "\n",
    "Dataset1 = pd.merge(Dataset, later_end_date, left_on = 'Wiki_Title', right_on = 'Wiki_Title')\n",
    "\n",
    "Final_Dataset = pd.merge(Dataset1, earlier_start_date, left_on ='Wiki_Title', right_on = 'Wiki_Title')\n",
    "pd.set_option('display.max_rows', 100)\n",
    "pd.set_option('display.max_columns', 10)\n",
    "\n",
    "Final_Dataset = Final_Dataset.drop_duplicates(subset = ['Wiki_Title'])\n",
    "\n",
    "# Reindexing\n",
    "Final_Dataset =Final_Dataset.reset_index(drop=True)\n",
    "# Renaming Columns                                         \n",
    "Final_Dataset = Final_Dataset.rename(columns = {'Wiki_Title':'Title','S_Date':'From','E_Date':'To'})                                         \n",
    "Final_Dataset"
   ]
  },
  {
   "cell_type": "code",
   "execution_count": 22,
   "metadata": {},
   "outputs": [
    {
     "ename": "TypeError",
     "evalue": "unsupported operand type(s) for -: 'Timestamp' and 'list'",
     "output_type": "error",
     "traceback": [
      "\u001b[1;31m---------------------------------------------------------------------------\u001b[0m",
      "\u001b[1;31mTypeError\u001b[0m                                 Traceback (most recent call last)",
      "\u001b[1;32m<ipython-input-22-756a768a8cec>\u001b[0m in \u001b[0;36m<module>\u001b[1;34m\u001b[0m\n\u001b[0;32m      6\u001b[0m \u001b[1;33m\u001b[0m\u001b[0m\n\u001b[0;32m      7\u001b[0m \u001b[0mf\u001b[0m \u001b[1;33m=\u001b[0m \u001b[1;32mlambda\u001b[0m \u001b[0mx\u001b[0m\u001b[1;33m:\u001b[0m \u001b[0mx\u001b[0m \u001b[1;33m[\u001b[0m\u001b[1;34m'To'\u001b[0m\u001b[1;33m]\u001b[0m \u001b[1;33m-\u001b[0m \u001b[1;33m[\u001b[0m\u001b[1;34m'From'\u001b[0m\u001b[1;33m]\u001b[0m\u001b[1;33m\u001b[0m\u001b[1;33m\u001b[0m\u001b[0m\n\u001b[1;32m----> 8\u001b[1;33m \u001b[0mFinal_Dataset\u001b[0m\u001b[1;33m[\u001b[0m\u001b[1;34m'Total_Months'\u001b[0m\u001b[1;33m]\u001b[0m \u001b[1;33m=\u001b[0m \u001b[0mFinal_Dataset\u001b[0m\u001b[1;33m.\u001b[0m\u001b[0mapply\u001b[0m\u001b[1;33m(\u001b[0m\u001b[0mf\u001b[0m\u001b[1;33m,\u001b[0m \u001b[0maxis\u001b[0m\u001b[1;33m=\u001b[0m\u001b[1;36m1\u001b[0m\u001b[1;33m)\u001b[0m\u001b[1;33m\u001b[0m\u001b[1;33m\u001b[0m\u001b[0m\n\u001b[0m\u001b[0;32m      9\u001b[0m \u001b[0mFinal_Dataset\u001b[0m\u001b[1;33m\u001b[0m\u001b[1;33m\u001b[0m\u001b[0m\n",
      "\u001b[1;32m~\\miniconda3\\envs\\boogie_woogie\\lib\\site-packages\\pandas\\core\\frame.py\u001b[0m in \u001b[0;36mapply\u001b[1;34m(self, func, axis, raw, result_type, args, **kwds)\u001b[0m\n\u001b[0;32m   6876\u001b[0m             \u001b[0mkwds\u001b[0m\u001b[1;33m=\u001b[0m\u001b[0mkwds\u001b[0m\u001b[1;33m,\u001b[0m\u001b[1;33m\u001b[0m\u001b[1;33m\u001b[0m\u001b[0m\n\u001b[0;32m   6877\u001b[0m         )\n\u001b[1;32m-> 6878\u001b[1;33m         \u001b[1;32mreturn\u001b[0m \u001b[0mop\u001b[0m\u001b[1;33m.\u001b[0m\u001b[0mget_result\u001b[0m\u001b[1;33m(\u001b[0m\u001b[1;33m)\u001b[0m\u001b[1;33m\u001b[0m\u001b[1;33m\u001b[0m\u001b[0m\n\u001b[0m\u001b[0;32m   6879\u001b[0m \u001b[1;33m\u001b[0m\u001b[0m\n\u001b[0;32m   6880\u001b[0m     \u001b[1;32mdef\u001b[0m \u001b[0mapplymap\u001b[0m\u001b[1;33m(\u001b[0m\u001b[0mself\u001b[0m\u001b[1;33m,\u001b[0m \u001b[0mfunc\u001b[0m\u001b[1;33m)\u001b[0m \u001b[1;33m->\u001b[0m \u001b[1;34m\"DataFrame\"\u001b[0m\u001b[1;33m:\u001b[0m\u001b[1;33m\u001b[0m\u001b[1;33m\u001b[0m\u001b[0m\n",
      "\u001b[1;32m~\\miniconda3\\envs\\boogie_woogie\\lib\\site-packages\\pandas\\core\\apply.py\u001b[0m in \u001b[0;36mget_result\u001b[1;34m(self)\u001b[0m\n\u001b[0;32m    184\u001b[0m             \u001b[1;32mreturn\u001b[0m \u001b[0mself\u001b[0m\u001b[1;33m.\u001b[0m\u001b[0mapply_raw\u001b[0m\u001b[1;33m(\u001b[0m\u001b[1;33m)\u001b[0m\u001b[1;33m\u001b[0m\u001b[1;33m\u001b[0m\u001b[0m\n\u001b[0;32m    185\u001b[0m \u001b[1;33m\u001b[0m\u001b[0m\n\u001b[1;32m--> 186\u001b[1;33m         \u001b[1;32mreturn\u001b[0m \u001b[0mself\u001b[0m\u001b[1;33m.\u001b[0m\u001b[0mapply_standard\u001b[0m\u001b[1;33m(\u001b[0m\u001b[1;33m)\u001b[0m\u001b[1;33m\u001b[0m\u001b[1;33m\u001b[0m\u001b[0m\n\u001b[0m\u001b[0;32m    187\u001b[0m \u001b[1;33m\u001b[0m\u001b[0m\n\u001b[0;32m    188\u001b[0m     \u001b[1;32mdef\u001b[0m \u001b[0mapply_empty_result\u001b[0m\u001b[1;33m(\u001b[0m\u001b[0mself\u001b[0m\u001b[1;33m)\u001b[0m\u001b[1;33m:\u001b[0m\u001b[1;33m\u001b[0m\u001b[1;33m\u001b[0m\u001b[0m\n",
      "\u001b[1;32m~\\miniconda3\\envs\\boogie_woogie\\lib\\site-packages\\pandas\\core\\apply.py\u001b[0m in \u001b[0;36mapply_standard\u001b[1;34m(self)\u001b[0m\n\u001b[0;32m    293\u001b[0m \u001b[1;33m\u001b[0m\u001b[0m\n\u001b[0;32m    294\u001b[0m             \u001b[1;32mtry\u001b[0m\u001b[1;33m:\u001b[0m\u001b[1;33m\u001b[0m\u001b[1;33m\u001b[0m\u001b[0m\n\u001b[1;32m--> 295\u001b[1;33m                 result = libreduction.compute_reduction(\n\u001b[0m\u001b[0;32m    296\u001b[0m                     \u001b[0mvalues\u001b[0m\u001b[1;33m,\u001b[0m \u001b[0mself\u001b[0m\u001b[1;33m.\u001b[0m\u001b[0mf\u001b[0m\u001b[1;33m,\u001b[0m \u001b[0maxis\u001b[0m\u001b[1;33m=\u001b[0m\u001b[0mself\u001b[0m\u001b[1;33m.\u001b[0m\u001b[0maxis\u001b[0m\u001b[1;33m,\u001b[0m \u001b[0mdummy\u001b[0m\u001b[1;33m=\u001b[0m\u001b[0mdummy\u001b[0m\u001b[1;33m,\u001b[0m \u001b[0mlabels\u001b[0m\u001b[1;33m=\u001b[0m\u001b[0mlabels\u001b[0m\u001b[1;33m\u001b[0m\u001b[1;33m\u001b[0m\u001b[0m\n\u001b[0;32m    297\u001b[0m                 )\n",
      "\u001b[1;32mpandas\\_libs\\reduction.pyx\u001b[0m in \u001b[0;36mpandas._libs.reduction.compute_reduction\u001b[1;34m()\u001b[0m\n",
      "\u001b[1;32mpandas\\_libs\\reduction.pyx\u001b[0m in \u001b[0;36mpandas._libs.reduction.Reducer.get_result\u001b[1;34m()\u001b[0m\n",
      "\u001b[1;32m<ipython-input-22-756a768a8cec>\u001b[0m in \u001b[0;36m<lambda>\u001b[1;34m(x)\u001b[0m\n\u001b[0;32m      5\u001b[0m \u001b[0mFinal_Dataset\u001b[0m\u001b[1;33m[\u001b[0m\u001b[1;34m'Total_Months'\u001b[0m\u001b[1;33m]\u001b[0m \u001b[1;33m=\u001b[0m \u001b[0mDataset\u001b[0m\u001b[1;33m.\u001b[0m\u001b[0mapply\u001b[0m\u001b[1;33m(\u001b[0m\u001b[1;32mlambda\u001b[0m \u001b[0m_\u001b[0m\u001b[1;33m:\u001b[0m \u001b[1;34m''\u001b[0m\u001b[1;33m,\u001b[0m \u001b[0maxis\u001b[0m\u001b[1;33m=\u001b[0m\u001b[1;36m1\u001b[0m\u001b[1;33m)\u001b[0m\u001b[1;33m\u001b[0m\u001b[1;33m\u001b[0m\u001b[0m\n\u001b[0;32m      6\u001b[0m \u001b[1;33m\u001b[0m\u001b[0m\n\u001b[1;32m----> 7\u001b[1;33m \u001b[0mf\u001b[0m \u001b[1;33m=\u001b[0m \u001b[1;32mlambda\u001b[0m \u001b[0mx\u001b[0m\u001b[1;33m:\u001b[0m \u001b[0mx\u001b[0m \u001b[1;33m[\u001b[0m\u001b[1;34m'To'\u001b[0m\u001b[1;33m]\u001b[0m \u001b[1;33m-\u001b[0m \u001b[1;33m[\u001b[0m\u001b[1;34m'From'\u001b[0m\u001b[1;33m]\u001b[0m\u001b[1;33m\u001b[0m\u001b[1;33m\u001b[0m\u001b[0m\n\u001b[0m\u001b[0;32m      8\u001b[0m \u001b[0mFinal_Dataset\u001b[0m\u001b[1;33m[\u001b[0m\u001b[1;34m'Total_Months'\u001b[0m\u001b[1;33m]\u001b[0m \u001b[1;33m=\u001b[0m \u001b[0mFinal_Dataset\u001b[0m\u001b[1;33m.\u001b[0m\u001b[0mapply\u001b[0m\u001b[1;33m(\u001b[0m\u001b[0mf\u001b[0m\u001b[1;33m,\u001b[0m \u001b[0maxis\u001b[0m\u001b[1;33m=\u001b[0m\u001b[1;36m1\u001b[0m\u001b[1;33m)\u001b[0m\u001b[1;33m\u001b[0m\u001b[1;33m\u001b[0m\u001b[0m\n\u001b[0;32m      9\u001b[0m \u001b[0mFinal_Dataset\u001b[0m\u001b[1;33m\u001b[0m\u001b[1;33m\u001b[0m\u001b[0m\n",
      "\u001b[1;31mTypeError\u001b[0m: unsupported operand type(s) for -: 'Timestamp' and 'list'"
     ]
    }
   ],
   "source": [
    "#FIGURE THIS OUT#\n",
    "Final_Dataset['From'] = pd.to_datetime(Final_Dataset['From'])\n",
    "Final_Dataset['To'] = pd.to_datetime(Final_Dataset['To'])\n",
    "\n",
    "Final_Dataset['Total_Months'] = Dataset.apply(lambda _: '', axis=1)\n",
    "\n",
    "f = lambda x: x ['To'] - ['From']\n",
    "Final_Dataset['Total_Months'] = Final_Dataset.apply(f, axis=1)\n",
    "Final_Dataset"
   ]
  },
  {
   "cell_type": "code",
   "execution_count": null,
   "metadata": {},
   "outputs": [],
   "source": [
    "#Approach 2: \n",
    "#Find the End_Date, and recalculate duration based on the difference between the earliest start date and the latest end date\n",
    "\n",
    "later_end_date = (pd.DataFrame(Dataset.groupby('Wiki_Title')['End_Date'].max())).rename(columns = {'End_Date':'E_Date'})\n",
    "earlier_start_date = (pd.DataFrame(Dataset.groupby('Wiki_Title')['Start_Date'].min())).rename(columns = {'Start_Date':'S_Date'})\n",
    "\n",
    "Dataset1 = pd.merge(Dataset, later_end_date, left_on = 'Wiki_Title', right_on = 'Wiki_Title')\n",
    "\n",
    "Final_Dataset = pd.merge(Dataset1, earlier_start_date, left_on ='Wiki_Title', right_on = 'Wiki_Title')\n",
    "pd.set_option('display.max_rows', 100)\n",
    "pd.set_option('display.max_columns', 10)"
   ]
  },
  {
   "cell_type": "code",
   "execution_count": null,
   "metadata": {},
   "outputs": [],
   "source": []
  },
  {
   "cell_type": "code",
   "execution_count": null,
   "metadata": {},
   "outputs": [],
   "source": [
    "#3. Changing the order of the columns\n",
    "column_order = ['Wiki_Rank','NYT_Rank','Wiki_Title','NYT_Title','Author','Start_Date','End_Date','Duration','Page_Visits']\n",
    "Dataset = Dataset[column_order]\n",
    "\n",
    "\n",
    "#4 Changing Duration to int\n",
    "#Dataset[\"Duration\"] = Dataset[\"Duration\"].astype(int)\n",
    "\n"
   ]
  },
  {
   "cell_type": "code",
   "execution_count": null,
   "metadata": {},
   "outputs": [],
   "source": [
    "ADD IT AT THE END\n",
    "#del Final_Dataset['NYT_Title']\n",
    "#del Final_Dataset['End_Date']\n",
    "#del Final_Dataset['Start_Date']\n",
    "#column_order = ['Wiki_Rank','NYT_Rank','Wiki_Title','Author','S_Date','E_Date','Duration','Page_Visits']\n",
    "#Final_Dataset = Final_Dataset[column_order]"
   ]
  }
 ],
 "metadata": {
  "kernelspec": {
   "display_name": "Python 3",
   "language": "python",
   "name": "python3"
  },
  "language_info": {
   "codemirror_mode": {
    "name": "ipython",
    "version": 3
   },
   "file_extension": ".py",
   "mimetype": "text/x-python",
   "name": "python",
   "nbconvert_exporter": "python",
   "pygments_lexer": "ipython3",
   "version": "3.8.3"
  }
 },
 "nbformat": 4,
 "nbformat_minor": 4
}
